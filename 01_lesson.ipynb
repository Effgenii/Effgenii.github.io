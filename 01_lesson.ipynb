{
 "cells": [
  {
   "cell_type": "markdown",
   "id": "acd32128",
   "metadata": {},
   "source": [
    "Задача 1\n",
    "Имеется колода в 52 карты. Найти число возможностей вытянуть из неё 4 карты так, чтобы среди них был хотя бы один туз."
   ]
  },
  {
   "cell_type": "code",
   "execution_count": 1,
   "id": "c7d55dee",
   "metadata": {},
   "outputs": [],
   "source": [
    "import numpy as np"
   ]
  },
  {
   "cell_type": "code",
   "execution_count": 2,
   "id": "a5313040",
   "metadata": {},
   "outputs": [],
   "source": [
    "def combinations(n: int, k: int) -> int:\n",
    "    return np.math.factorial(n) // (np.math.factorial(k) * np.math.factorial(n - k))"
   ]
  },
  {
   "cell_type": "code",
   "execution_count": 8,
   "id": "0aee1b3e",
   "metadata": {},
   "outputs": [
    {
     "name": "stdout",
     "output_type": "stream",
     "text": [
      "76145 возможностей\n"
     ]
    }
   ],
   "source": [
    "n = sum(combinations(4, i) * combinations(48, 4 - i) for i in range(1, 5))\n",
    "print (n, \"возможностей\")"
   ]
  },
  {
   "cell_type": "markdown",
   "id": "e96dd80e",
   "metadata": {},
   "source": [
    "Задачи 2 и 3\n",
    "Из 60 вопросов, входящих в экзаменационные билеты, студент знает 50. Случайным образом студент вытягивает 3 вопроса. \n",
    "1. Какова вероятность, что все выбранные вопросы знакомы студенту?\n",
    "2. Какова вероятность что два из трёх вопросов знакомы студенту?"
   ]
  },
  {
   "cell_type": "code",
   "execution_count": 11,
   "id": "f6c91844",
   "metadata": {},
   "outputs": [
    {
     "name": "stdout",
     "output_type": "stream",
     "text": [
      "вероятность что все билеты знакомые 0.5727644652250146\n"
     ]
    }
   ],
   "source": [
    "P1 = combinations(50, 3) / combinations(60, 3)\n",
    "print ('вероятность что все билеты знакомые:', P1)"
   ]
  },
  {
   "cell_type": "code",
   "execution_count": 12,
   "id": "6704a579",
   "metadata": {},
   "outputs": [
    {
     "name": "stdout",
     "output_type": "stream",
     "text": [
      "вероятность что два из трёх знакомы: 0.35797779076563413\n"
     ]
    }
   ],
   "source": [
    "P2 = combinations(50, 2) * combinations(10, 1) / combinations(60, 3)\n",
    "print ('вероятность что два из трёх знакомы:', P2)"
   ]
  },
  {
   "cell_type": "markdown",
   "id": "3cda1f43",
   "metadata": {},
   "source": [
    "Задача 4\n",
    "Допустим, имеется некоторая очень редкая болезнь (поражает 0.1% населения). \n",
    "Вы приходите к врачу, вам делают тест на эту болезнь, и тест оказывается положительным. \n",
    "Врач говорит вам, что этот тест верно выявляет 99% больных этой болезнью и всего лишь в 1% случаев даёт \n",
    "ложный положительный ответ. Вопрос: какова вероятность, что вы действительно больны ей?"
   ]
  },
  {
   "cell_type": "code",
   "execution_count": 13,
   "id": "143efe93",
   "metadata": {},
   "outputs": [
    {
     "name": "stdout",
     "output_type": "stream",
     "text": [
      "вероятность болезни: 9.016 %\n"
     ]
    }
   ],
   "source": [
    "Pb = 0.001 * 0.99 + 0.999 * 0.01\n",
    "P = 0.001 * 0.99 / Pb\n",
    "print ('вероятность болезни:', round(P*100,3), '%')"
   ]
  }
 ],
 "metadata": {
  "kernelspec": {
   "display_name": "Python 3 (ipykernel)",
   "language": "python",
   "name": "python3"
  },
  "language_info": {
   "codemirror_mode": {
    "name": "ipython",
    "version": 3
   },
   "file_extension": ".py",
   "mimetype": "text/x-python",
   "name": "python",
   "nbconvert_exporter": "python",
   "pygments_lexer": "ipython3",
   "version": "3.9.1"
  }
 },
 "nbformat": 4,
 "nbformat_minor": 5
}
